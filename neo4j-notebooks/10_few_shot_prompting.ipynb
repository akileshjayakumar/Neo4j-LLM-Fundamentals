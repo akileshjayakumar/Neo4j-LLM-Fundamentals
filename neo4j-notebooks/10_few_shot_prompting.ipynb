{
 "cells": [
  {
   "cell_type": "code",
   "execution_count": 6,
   "metadata": {},
   "outputs": [
    {
     "data": {
      "text/plain": [
       "True"
      ]
     },
     "execution_count": 6,
     "metadata": {},
     "output_type": "execute_result"
    }
   ],
   "source": [
    "import os\n",
    "from dotenv import load_dotenv\n",
    "\n",
    "load_dotenv()"
   ]
  },
  {
   "cell_type": "code",
   "execution_count": 7,
   "metadata": {},
   "outputs": [
    {
     "name": "stdout",
     "output_type": "stream",
     "text": [
      "Schema: default_schema\n",
      "Question: Find all movies directed by Christopher Nolan\n"
     ]
    }
   ],
   "source": [
    "# Fetch schema and question from environment variables\n",
    "schema = os.getenv('NEO4J_SCHEMA', 'default_schema')\n",
    "question = os.getenv(\n",
    "    'USER_QUESTION', 'Find all movies directed by Christopher Nolan')\n",
    "\n",
    "print(f\"Schema: {schema}\")\n",
    "print(f\"Question: {question}\")"
   ]
  },
  {
   "cell_type": "code",
   "execution_count": 8,
   "metadata": {},
   "outputs": [],
   "source": [
    "CYPHER_GENERATION_TEMPLATE = f\"\"\"\n",
    "You are an expert Neo4j Developer translating user questions into Cypher to answer questions about movies and provide recommendations.\n",
    "Convert the user's question based on the schema.\n",
    "\n",
    "Instructions:\n",
    "Use only the provided relationship types and properties in the schema.\n",
    "Do not use any other relationship types or properties that are not provided.\n",
    "For movie titles that begin with \"The\", move \"the\" to the end, For example \"The 39 Steps\" becomes \"39 Steps, The\" or \"The Matrix\" becomes \"Matrix, The\".\n",
    "\n",
    "If no data is returned, do not attempt to answer the question.\n",
    "Only respond to questions that require you to construct a Cypher statement.\n",
    "Do not include any explanations or apologies in your responses.\n",
    "\n",
    "Examples:\n",
    "Find movies and genres:\n",
    "MATCH (m:Movie)-[:IN_GENRE]->(g)\n",
    "RETURN m.title, g.name\n",
    "\n",
    "Schema: {schema}\n",
    "Question: {{question}}\n",
    "\"\"\""
   ]
  },
  {
   "cell_type": "code",
   "execution_count": 9,
   "metadata": {},
   "outputs": [
    {
     "name": "stdout",
     "output_type": "stream",
     "text": [
      "\n",
      "You are an expert Neo4j Developer translating user questions into Cypher to answer questions about movies and provide recommendations.\n",
      "Convert the user's question based on the schema.\n",
      "\n",
      "Instructions:\n",
      "Use only the provided relationship types and properties in the schema.\n",
      "Do not use any other relationship types or properties that are not provided.\n",
      "For movie titles that begin with \"The\", move \"the\" to the end, For example \"The 39 Steps\" becomes \"39 Steps, The\" or \"The Matrix\" becomes \"Matrix, The\".\n",
      "\n",
      "If no data is returned, do not attempt to answer the question.\n",
      "Only respond to questions that require you to construct a Cypher statement.\n",
      "Do not include any explanations or apologies in your responses.\n",
      "\n",
      "Examples:\n",
      "Find movies and genres:\n",
      "MATCH (m:Movie)-[:IN_GENRE]->(g)\n",
      "RETURN m.title, g.name\n",
      "\n",
      "Schema: default_schema\n",
      "Question: Find all movies directed by Christopher Nolan\n",
      "\n"
     ]
    }
   ],
   "source": [
    "formatted_query = CYPHER_GENERATION_TEMPLATE.format(question=question)\n",
    "print(formatted_query)"
   ]
  },
  {
   "cell_type": "code",
   "execution_count": null,
   "metadata": {},
   "outputs": [],
   "source": []
  }
 ],
 "metadata": {
  "kernelspec": {
   "display_name": ".venv",
   "language": "python",
   "name": "python3"
  },
  "language_info": {
   "codemirror_mode": {
    "name": "ipython",
    "version": 3
   },
   "file_extension": ".py",
   "mimetype": "text/x-python",
   "name": "python",
   "nbconvert_exporter": "python",
   "pygments_lexer": "ipython3",
   "version": "3.12.6"
  }
 },
 "nbformat": 4,
 "nbformat_minor": 2
}
